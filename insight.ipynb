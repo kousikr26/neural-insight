{
 "cells": [
  {
   "cell_type": "code",
   "execution_count": 215,
   "metadata": {},
   "outputs": [],
   "source": [
    "import numpy as np\n",
    "import keras\n",
    "from keras.models import Sequential\n",
    "from keras.layers import Dense, Dropout, Flatten\n",
    "from keras.layers import Conv2D, MaxPooling2D\n",
    "from keras.utils import to_categorical\n",
    "from keras.models import Sequential, Model, load_model\n",
    "from keras.layers import Input, Conv1D, Conv2D, MaxPooling1D, MaxPooling2D, Dense, Dropout, Activation, Flatten\n",
    "from keras.layers.normalization import BatchNormalization\n",
    "from keras.optimizers import SGD\n",
    "from keras.callbacks import ModelCheckpoint,ReduceLROnPlateau\n",
    "from keras import regularizers\n",
    "from keras.callbacks import ModelCheckpoint\n",
    "from keras.models import model_from_json\n",
    "from keras.utils import to_categorical\n",
    "import pandas as pd\n",
    "import matplotlib.pyplot as plt\n",
    "from sklearn.model_selection import train_test_split\n",
    "from keras.utils import to_categorical\n",
    "from tqdm import tqdm\n",
    "from keras.constraints import maxnorm\n",
    "from keras.optimizers import SGD\n",
    "from keras.layers import Activation\n",
    "from keras.initializers import glorot_normal\n",
    "from keras.utils import np_utils\n",
    "from math import ceil"
   ]
  },
  {
   "cell_type": "markdown",
   "metadata": {},
   "source": [
    "### Training data consists of 20000 numbers in binary representation(64 bits) and test contains 1000 samples"
   ]
  },
  {
   "cell_type": "code",
   "execution_count": 125,
   "metadata": {},
   "outputs": [],
   "source": [
    "n_bits=64"
   ]
  },
  {
   "cell_type": "code",
   "execution_count": 194,
   "metadata": {},
   "outputs": [],
   "source": [
    "X_train=np.load('xtrain.npy').reshape(-1,n_bits)\n",
    "y_train=np.load('ytrain.npy').reshape(-1,1)\n",
    "X_test=np.load('xtest.npy').reshape(-1,n_bits)\n",
    "y_test=np.load('ytest.npy').reshape(-1,1)"
   ]
  },
  {
   "cell_type": "markdown",
   "metadata": {},
   "source": [
    "### Testing out the simplest possible model i.e single layer"
   ]
  },
  {
   "cell_type": "code",
   "execution_count": 241,
   "metadata": {},
   "outputs": [
    {
     "name": "stdout",
     "output_type": "stream",
     "text": [
      "Model: \"sequential_62\"\n",
      "_________________________________________________________________\n",
      "Layer (type)                 Output Shape              Param #   \n",
      "=================================================================\n",
      "dense_160 (Dense)            (None, 1)                 65        \n",
      "=================================================================\n",
      "Total params: 65\n",
      "Trainable params: 65\n",
      "Non-trainable params: 0\n",
      "_________________________________________________________________\n"
     ]
    }
   ],
   "source": [
    "model = Sequential()\n",
    "model.add(Dense(1,activation='relu',input_shape=(n_bits,)))\n",
    "adam=keras.optimizers.Adam(learning_rate=0.001, beta_1=0.9, beta_2=0.999, amsgrad=False)\n",
    "model.compile(loss = 'binary_crossentropy', optimizer=adam,metrics = ['accuracy'])\n",
    "model.summary()"
   ]
  },
  {
   "cell_type": "markdown",
   "metadata": {},
   "source": [
    "#### Model has only 65 parameters, 1 weight for each bit and a bias value"
   ]
  },
  {
   "cell_type": "code",
   "execution_count": 242,
   "metadata": {},
   "outputs": [
    {
     "name": "stdout",
     "output_type": "stream",
     "text": [
      "Epoch 1/25\n",
      "9000/9000 [==============================] - 1s 127us/step - loss: 4.0054 - accuracy: 0.4779\n",
      "Epoch 2/25\n",
      "9000/9000 [==============================] - 1s 79us/step - loss: 3.2825 - accuracy: 0.5142\n",
      "Epoch 3/25\n",
      "9000/9000 [==============================] - 1s 76us/step - loss: 2.7511 - accuracy: 0.5426\n",
      "Epoch 4/25\n",
      "9000/9000 [==============================] - 1s 77us/step - loss: 2.4411 - accuracy: 0.5854\n",
      "Epoch 5/25\n",
      "9000/9000 [==============================] - 1s 88us/step - loss: 2.0888 - accuracy: 0.5959\n",
      "Epoch 6/25\n",
      "9000/9000 [==============================] - 1s 73us/step - loss: 1.9393 - accuracy: 0.6170\n",
      "Epoch 7/25\n",
      "9000/9000 [==============================] - 1s 74us/step - loss: 1.6005 - accuracy: 0.6451\n",
      "Epoch 8/25\n",
      "9000/9000 [==============================] - 1s 76us/step - loss: 1.4423 - accuracy: 0.6537\n",
      "Epoch 9/25\n",
      "9000/9000 [==============================] - 1s 72us/step - loss: 1.1280 - accuracy: 0.6900\n",
      "Epoch 10/25\n",
      "9000/9000 [==============================] - 1s 72us/step - loss: 0.8764 - accuracy: 0.7242\n",
      "Epoch 11/25\n",
      "9000/9000 [==============================] - 1s 71us/step - loss: 0.7031 - accuracy: 0.7617\n",
      "Epoch 12/25\n",
      "9000/9000 [==============================] - 1s 72us/step - loss: 0.5395 - accuracy: 0.7931\n",
      "Epoch 13/25\n",
      "9000/9000 [==============================] - 1s 73us/step - loss: 0.4473 - accuracy: 0.8209\n",
      "Epoch 14/25\n",
      "9000/9000 [==============================] - 1s 98us/step - loss: 0.3643 - accuracy: 0.8496\n",
      "Epoch 15/25\n",
      "9000/9000 [==============================] - 1s 73us/step - loss: 0.3246 - accuracy: 0.8752\n",
      "Epoch 16/25\n",
      "9000/9000 [==============================] - 1s 75us/step - loss: 0.2825 - accuracy: 0.8943\n",
      "Epoch 17/25\n",
      "9000/9000 [==============================] - 1s 72us/step - loss: 0.2504 - accuracy: 0.9160\n",
      "Epoch 18/25\n",
      "9000/9000 [==============================] - 1s 71us/step - loss: 0.2186 - accuracy: 0.9348\n",
      "Epoch 19/25\n",
      "9000/9000 [==============================] - 1s 73us/step - loss: 0.1880 - accuracy: 0.9557\n",
      "Epoch 20/25\n",
      "9000/9000 [==============================] - 1s 72us/step - loss: 0.1614 - accuracy: 0.9702\n",
      "Epoch 21/25\n",
      "9000/9000 [==============================] - 1s 73us/step - loss: 0.1359 - accuracy: 0.9823\n",
      "Epoch 22/25\n",
      "9000/9000 [==============================] - 1s 76us/step - loss: 0.1118 - accuracy: 0.9920\n",
      "Epoch 23/25\n",
      "9000/9000 [==============================] - 1s 77us/step - loss: 0.0894 - accuracy: 0.9959\n",
      "Epoch 24/25\n",
      "9000/9000 [==============================] - 1s 75us/step - loss: 0.0693 - accuracy: 0.9983\n",
      "Epoch 25/25\n",
      "9000/9000 [==============================] - 1s 75us/step - loss: 0.0522 - accuracy: 0.9992\n"
     ]
    },
    {
     "data": {
      "text/plain": [
       "<keras.callbacks.callbacks.History at 0x7f64cd6561d0>"
      ]
     },
     "execution_count": 242,
     "metadata": {},
     "output_type": "execute_result"
    }
   ],
   "source": [
    "model.fit(X_train,y_train,epochs=25)"
   ]
  },
  {
   "cell_type": "markdown",
   "metadata": {},
   "source": [
    "### Model sometimes gets stuck on local optima and weights need to be reinitialized"
   ]
  },
  {
   "cell_type": "code",
   "execution_count": 243,
   "metadata": {},
   "outputs": [
    {
     "name": "stdout",
     "output_type": "stream",
     "text": [
      "1000/1000 [==============================] - 0s 452us/step\n"
     ]
    },
    {
     "data": {
      "text/plain": [
       "[0.050511517450213435, 1.0]"
      ]
     },
     "execution_count": 243,
     "metadata": {},
     "output_type": "execute_result"
    }
   ],
   "source": [
    "model.evaluate(X_test,y_test)"
   ]
  },
  {
   "cell_type": "code",
   "execution_count": 244,
   "metadata": {},
   "outputs": [
    {
     "name": "stdout",
     "output_type": "stream",
     "text": [
      "[array([[ 0.00677363],\n",
      "       [-0.02263455],\n",
      "       [ 0.02951043],\n",
      "       [ 0.01654496],\n",
      "       [ 0.03770161],\n",
      "       [ 0.04202359],\n",
      "       [-0.01287957],\n",
      "       [ 0.02092279],\n",
      "       [ 0.05119466],\n",
      "       [ 0.05705069],\n",
      "       [-0.01606347],\n",
      "       [ 0.02950711],\n",
      "       [ 0.04261974],\n",
      "       [ 0.03060959],\n",
      "       [ 0.04790935],\n",
      "       [ 0.0728935 ],\n",
      "       [ 0.01675704],\n",
      "       [ 0.0339079 ],\n",
      "       [ 0.05075683],\n",
      "       [ 0.00910498],\n",
      "       [ 0.03396915],\n",
      "       [ 0.04988522],\n",
      "       [ 0.03190381],\n",
      "       [-0.01481624],\n",
      "       [ 0.04096314],\n",
      "       [ 0.05275473],\n",
      "       [ 0.04637457],\n",
      "       [ 0.05065171],\n",
      "       [ 0.06772818],\n",
      "       [ 0.02853998],\n",
      "       [ 0.03536513],\n",
      "       [ 0.06779679],\n",
      "       [ 0.03057687],\n",
      "       [ 0.03808122],\n",
      "       [ 0.05517583],\n",
      "       [ 0.03946064],\n",
      "       [ 0.01508139],\n",
      "       [ 0.03320685],\n",
      "       [-0.01026512],\n",
      "       [-0.00829757],\n",
      "       [ 0.0567228 ],\n",
      "       [ 0.03073649],\n",
      "       [-0.00155868],\n",
      "       [ 0.04311327],\n",
      "       [ 0.04249937],\n",
      "       [ 0.02237049],\n",
      "       [ 0.02418012],\n",
      "       [ 0.05340755],\n",
      "       [ 0.03620083],\n",
      "       [ 0.01678043],\n",
      "       [ 0.03141217],\n",
      "       [ 0.06884747],\n",
      "       [-0.00580866],\n",
      "       [ 0.05098017],\n",
      "       [ 0.0524185 ],\n",
      "       [ 0.02934851],\n",
      "       [ 0.0244624 ],\n",
      "       [ 0.05644752],\n",
      "       [ 0.03159611],\n",
      "       [ 0.01102415],\n",
      "       [ 0.0034782 ],\n",
      "       [ 0.01447277],\n",
      "       [-0.00753483],\n",
      "       [-1.0917988 ]], dtype=float32), array([0.0726791], dtype=float32)]\n"
     ]
    }
   ],
   "source": [
    "for layer in model.layers:\n",
    "    print(layer.get_weights())"
   ]
  },
  {
   "cell_type": "markdown",
   "metadata": {},
   "source": [
    "### As expected we can see the model has learned to use the last bit in predicting odd/even\n",
    "**The last neuron has a weight of -1.09 i.e when the last bit is 1 the negative weight followed by the sigmoid makes the model output 0 corresponding to a odd number and similarly 1 for even number**"
   ]
  },
  {
   "cell_type": "markdown",
   "metadata": {},
   "source": [
    "### Adding another intermediate layer of 64 neurons"
   ]
  },
  {
   "cell_type": "code",
   "execution_count": 257,
   "metadata": {},
   "outputs": [
    {
     "name": "stdout",
     "output_type": "stream",
     "text": [
      "Model: \"sequential_67\"\n",
      "_________________________________________________________________\n",
      "Layer (type)                 Output Shape              Param #   \n",
      "=================================================================\n",
      "dense_169 (Dense)            (None, 64)                4160      \n",
      "_________________________________________________________________\n",
      "dense_170 (Dense)            (None, 1)                 65        \n",
      "=================================================================\n",
      "Total params: 4,225\n",
      "Trainable params: 4,225\n",
      "Non-trainable params: 0\n",
      "_________________________________________________________________\n"
     ]
    }
   ],
   "source": [
    "model = Sequential()\n",
    "\n",
    "model.add(Dense(64,activation='tanh',input_shape=(n_bits,)))\n",
    "model.add(Dense(1,activation='relu'))\n",
    "adam=keras.optimizers.Adam(learning_rate=0.001, beta_1=0.9, beta_2=0.999, amsgrad=False)\n",
    "model.compile(loss = 'binary_crossentropy', optimizer=adam,metrics = ['accuracy'])\n",
    "model.summary()"
   ]
  },
  {
   "cell_type": "code",
   "execution_count": 258,
   "metadata": {},
   "outputs": [
    {
     "name": "stdout",
     "output_type": "stream",
     "text": [
      "Epoch 1/25\n",
      "9000/9000 [==============================] - 1s 132us/step - loss: 0.8291 - accuracy: 0.8347\n",
      "Epoch 2/25\n",
      "9000/9000 [==============================] - 1s 80us/step - loss: 0.0241 - accuracy: 0.9994\n",
      "Epoch 3/25\n",
      "9000/9000 [==============================] - 1s 81us/step - loss: 0.0037 - accuracy: 0.9980\n",
      "Epoch 4/25\n",
      "9000/9000 [==============================] - 1s 79us/step - loss: 0.0013 - accuracy: 0.9969\n",
      "Epoch 5/25\n",
      "9000/9000 [==============================] - 1s 80us/step - loss: 6.4215e-04 - accuracy: 0.9941\n",
      "Epoch 6/25\n",
      "9000/9000 [==============================] - 1s 81us/step - loss: 3.4332e-04 - accuracy: 0.9933\n",
      "Epoch 7/25\n",
      "9000/9000 [==============================] - 1s 82us/step - loss: 1.8786e-04 - accuracy: 0.9898\n",
      "Epoch 8/25\n",
      "9000/9000 [==============================] - 1s 81us/step - loss: 1.1200e-04 - accuracy: 0.9898\n",
      "Epoch 9/25\n",
      "9000/9000 [==============================] - 1s 80us/step - loss: 9.2408e-05 - accuracy: 0.9857\n",
      "Epoch 10/25\n",
      "9000/9000 [==============================] - 1s 82us/step - loss: 6.1379e-05 - accuracy: 0.9839\n",
      "Epoch 11/25\n",
      "9000/9000 [==============================] - 1s 83us/step - loss: 3.0981e-05 - accuracy: 0.9847\n",
      "Epoch 12/25\n",
      "9000/9000 [==============================] - 1s 81us/step - loss: 2.6653e-05 - accuracy: 0.9849\n",
      "Epoch 13/25\n",
      "9000/9000 [==============================] - 1s 78us/step - loss: 1.0490e-05 - accuracy: 0.9763\n",
      "Epoch 14/25\n",
      "9000/9000 [==============================] - 1s 79us/step - loss: 2.3906e-05 - accuracy: 0.9734\n",
      "Epoch 15/25\n",
      "9000/9000 [==============================] - 1s 80us/step - loss: 2.8693e-06 - accuracy: 0.9722\n",
      "Epoch 16/25\n",
      "9000/9000 [==============================] - 1s 80us/step - loss: 1.3317e-06 - accuracy: 0.9698\n",
      "Epoch 17/25\n",
      "9000/9000 [==============================] - 1s 82us/step - loss: 3.8009e-05 - accuracy: 0.9608\n",
      "Epoch 18/25\n",
      "9000/9000 [==============================] - 1s 81us/step - loss: 1.4437e-05 - accuracy: 0.9607\n",
      "Epoch 19/25\n",
      "9000/9000 [==============================] - 1s 81us/step - loss: 0.0000e+00 - accuracy: 0.9633\n",
      "Epoch 20/25\n",
      "9000/9000 [==============================] - 1s 81us/step - loss: 0.0000e+00 - accuracy: 0.9633\n",
      "Epoch 21/25\n",
      "9000/9000 [==============================] - 1s 80us/step - loss: 0.0000e+00 - accuracy: 0.9633\n",
      "Epoch 22/25\n",
      "9000/9000 [==============================] - 1s 84us/step - loss: 0.0000e+00 - accuracy: 0.9633\n",
      "Epoch 23/25\n",
      "9000/9000 [==============================] - 1s 84us/step - loss: 0.0000e+00 - accuracy: 0.9633\n",
      "Epoch 24/25\n",
      "9000/9000 [==============================] - 1s 87us/step - loss: 0.0000e+00 - accuracy: 0.9633\n",
      "Epoch 25/25\n",
      "9000/9000 [==============================] - 1s 88us/step - loss: 0.0000e+00 - accuracy: 0.9633\n"
     ]
    },
    {
     "data": {
      "text/plain": [
       "<keras.callbacks.callbacks.History at 0x7f64cbd4b3c8>"
      ]
     },
     "execution_count": 258,
     "metadata": {},
     "output_type": "execute_result"
    }
   ],
   "source": [
    "model.fit(X_train,y_train,epochs=25)"
   ]
  },
  {
   "cell_type": "code",
   "execution_count": 261,
   "metadata": {},
   "outputs": [
    {
     "name": "stdout",
     "output_type": "stream",
     "text": [
      "1000/1000 [==============================] - 0s 96us/step\n"
     ]
    },
    {
     "data": {
      "text/plain": [
       "[0.0, 0.9580000042915344]"
      ]
     },
     "execution_count": 261,
     "metadata": {},
     "output_type": "execute_result"
    }
   ],
   "source": [
    "model.evaluate(X_test,y_test)"
   ]
  },
  {
   "cell_type": "code",
   "execution_count": 262,
   "metadata": {},
   "outputs": [
    {
     "name": "stdout",
     "output_type": "stream",
     "text": [
      "[array([[-0.18183008, -0.06281184,  0.21292016, ...,  0.00548634,\n",
      "         0.13471358, -0.02666843],\n",
      "       [ 0.08163736, -0.06878897, -0.1251381 , ..., -0.1165362 ,\n",
      "        -0.0399698 ,  0.11253046],\n",
      "       [-0.00192882, -0.111926  , -0.17232656, ...,  0.09507027,\n",
      "        -0.00426782, -0.01518515],\n",
      "       ...,\n",
      "       [-0.03900824, -0.11499169, -0.04758181, ...,  0.0968859 ,\n",
      "        -0.05187183, -0.05518178],\n",
      "       [ 0.07416444,  0.08138244, -0.10705304, ..., -0.12463407,\n",
      "        -0.0956605 ,  0.13453257],\n",
      "       [ 0.28112248, -0.03939004,  0.23373301, ..., -0.03781975,\n",
      "        -0.2638293 , -0.21135405]], dtype=float32), array([-0.02297718,  0.02226296, -0.02515272,  0.07343481, -0.02527467,\n",
      "       -0.02736185,  0.02960105,  0.03894471, -0.03244314,  0.01347534,\n",
      "       -0.00610123,  0.06319445, -0.04692763, -0.02317805,  0.024689  ,\n",
      "       -0.05424469, -0.05036336, -0.05107069,  0.01814247, -0.02144654,\n",
      "        0.02535893,  0.01928585, -0.01577857, -0.05941382,  0.01870255,\n",
      "        0.02837354, -0.02277503, -0.02298719,  0.02390172, -0.01958831,\n",
      "        0.02119582,  0.0275906 ,  0.0283598 , -0.03278737, -0.03080926,\n",
      "       -0.02084684,  0.03400388, -0.02609009,  0.01917456, -0.02184773,\n",
      "       -0.02635259, -0.03581519, -0.06364689,  0.02376256, -0.03764015,\n",
      "        0.02268445, -0.03634969, -0.05267613,  0.04669248, -0.02267328,\n",
      "       -0.07741915, -0.01788545,  0.02425916, -0.0237438 , -0.01499622,\n",
      "       -0.02674978, -0.0186972 ,  0.01907566,  0.02355709,  0.02713026,\n",
      "       -0.08206937,  0.03171282,  0.02852295,  0.02181225], dtype=float32)]\n",
      "[array([[-0.09269229],\n",
      "       [ 0.08903711],\n",
      "       [-0.10104332],\n",
      "       [ 0.24811521],\n",
      "       [-0.26917517],\n",
      "       [-0.03846604],\n",
      "       [ 0.06030918],\n",
      "       [ 0.27349505],\n",
      "       [-0.09896392],\n",
      "       [ 0.1639308 ],\n",
      "       [-0.01365178],\n",
      "       [ 0.13986558],\n",
      "       [-0.03982507],\n",
      "       [-0.25220376],\n",
      "       [ 0.2247578 ],\n",
      "       [-0.08269742],\n",
      "       [-0.14648634],\n",
      "       [-0.11958042],\n",
      "       [ 0.18044096],\n",
      "       [-0.17137782],\n",
      "       [ 0.14412744],\n",
      "       [ 0.08973747],\n",
      "       [-0.13858578],\n",
      "       [-0.30027014],\n",
      "       [ 0.12582605],\n",
      "       [ 0.16498457],\n",
      "       [-0.13553227],\n",
      "       [-0.17886992],\n",
      "       [ 0.16037072],\n",
      "       [-0.21057802],\n",
      "       [ 0.2479052 ],\n",
      "       [ 0.1936825 ],\n",
      "       [ 0.17337276],\n",
      "       [-0.21540162],\n",
      "       [-0.10986707],\n",
      "       [-0.28445578],\n",
      "       [ 0.16348855],\n",
      "       [-0.01773371],\n",
      "       [ 0.1074366 ],\n",
      "       [-0.07152712],\n",
      "       [-0.16229147],\n",
      "       [-0.13368204],\n",
      "       [-0.10976279],\n",
      "       [ 0.2897982 ],\n",
      "       [-0.16488674],\n",
      "       [ 0.29092997],\n",
      "       [-0.1302909 ],\n",
      "       [-0.05372473],\n",
      "       [ 0.25589406],\n",
      "       [-0.2883345 ],\n",
      "       [-0.28699088],\n",
      "       [-0.21891367],\n",
      "       [ 0.27650458],\n",
      "       [-0.04177803],\n",
      "       [-0.27010491],\n",
      "       [-0.17488343],\n",
      "       [-0.18028234],\n",
      "       [ 0.08137476],\n",
      "       [ 0.02337015],\n",
      "       [ 0.2242308 ],\n",
      "       [-0.04210473],\n",
      "       [ 0.06055992],\n",
      "       [ 0.29010722],\n",
      "       [ 0.23343286]], dtype=float32), array([0.02329482], dtype=float32)]\n"
     ]
    }
   ],
   "source": [
    "for layer in model.layers:\n",
    "    print(layer.get_weights())"
   ]
  },
  {
   "cell_type": "code",
   "execution_count": 199,
   "metadata": {},
   "outputs": [
    {
     "name": "stdout",
     "output_type": "stream",
     "text": [
      "Model: \"sequential_53\"\n",
      "_________________________________________________________________\n",
      "Layer (type)                 Output Shape              Param #   \n",
      "=================================================================\n",
      "dense_147 (Dense)            (None, 1024)              66560     \n",
      "_________________________________________________________________\n",
      "dense_148 (Dense)            (None, 512)               524800    \n",
      "_________________________________________________________________\n",
      "dense_149 (Dense)            (None, 512)               262656    \n",
      "_________________________________________________________________\n",
      "dense_150 (Dense)            (None, 512)               262656    \n",
      "_________________________________________________________________\n",
      "dense_151 (Dense)            (None, 1)                 513       \n",
      "=================================================================\n",
      "Total params: 1,117,185\n",
      "Trainable params: 1,117,185\n",
      "Non-trainable params: 0\n",
      "_________________________________________________________________\n"
     ]
    }
   ],
   "source": [
    "model = Sequential()\n",
    "model.add(Dense(1024, activation='tanh',input_shape=(n_bits,)))\n",
    "model.add(Dense(512,activation='tanh'))\n",
    "model.add(Dense(512,activation='tanh'))\n",
    "model.add(Dense(512,activation='tanh'))\n",
    "model.add(Dense(1,activation='relu'))\n",
    "adam=keras.optimizers.Adam(learning_rate=0.00001, beta_1=0.9, beta_2=0.999, amsgrad=False)\n",
    "model.compile(loss = 'binary_crossentropy', optimizer=adam,metrics = ['accuracy'])\n",
    "model.summary()"
   ]
  },
  {
   "cell_type": "code",
   "execution_count": 200,
   "metadata": {},
   "outputs": [
    {
     "name": "stdout",
     "output_type": "stream",
     "text": [
      "Epoch 1/10\n",
      "9000/9000 [==============================] - 6s 622us/step - loss: 0.3688 - accuracy: 0.8672\n",
      "Epoch 2/10\n",
      "9000/9000 [==============================] - 5s 503us/step - loss: 0.0132 - accuracy: 0.9999\n",
      "Epoch 3/10\n",
      "9000/9000 [==============================] - 4s 499us/step - loss: 0.0020 - accuracy: 0.9979\n",
      "Epoch 4/10\n",
      "9000/9000 [==============================] - 5s 506us/step - loss: 7.6838e-04 - accuracy: 0.9927\n",
      "Epoch 5/10\n",
      "9000/9000 [==============================] - 5s 501us/step - loss: 3.7342e-04 - accuracy: 0.9829\n",
      "Epoch 6/10\n",
      "9000/9000 [==============================] - 4s 497us/step - loss: 1.9054e-04 - accuracy: 0.9750\n",
      "Epoch 7/10\n",
      "9000/9000 [==============================] - 5s 508us/step - loss: 1.0518e-04 - accuracy: 0.9667\n",
      "Epoch 8/10\n",
      "9000/9000 [==============================] - 4s 499us/step - loss: 6.6774e-05 - accuracy: 0.9538\n",
      "Epoch 9/10\n",
      "9000/9000 [==============================] - 4s 497us/step - loss: 4.2090e-05 - accuracy: 0.9497\n",
      "Epoch 10/10\n",
      "9000/9000 [==============================] - 4s 498us/step - loss: 2.1484e-05 - accuracy: 0.9447\n"
     ]
    },
    {
     "data": {
      "text/plain": [
       "<keras.callbacks.callbacks.History at 0x7f64cf110908>"
      ]
     },
     "execution_count": 200,
     "metadata": {},
     "output_type": "execute_result"
    }
   ],
   "source": [
    "model.fit(X_train,y_train,epochs=10)"
   ]
  },
  {
   "cell_type": "code",
   "execution_count": 260,
   "metadata": {},
   "outputs": [
    {
     "name": "stdout",
     "output_type": "stream",
     "text": [
      "1000/1000 [==============================] - 0s 91us/step\n"
     ]
    },
    {
     "data": {
      "text/plain": [
       "[0.0, 0.9580000042915344]"
      ]
     },
     "execution_count": 260,
     "metadata": {},
     "output_type": "execute_result"
    }
   ],
   "source": [
    "model.evaluate(X_test,y_test)"
   ]
  },
  {
   "cell_type": "code",
   "execution_count": 202,
   "metadata": {},
   "outputs": [
    {
     "name": "stdout",
     "output_type": "stream",
     "text": [
      "Model: \"sequential_53\"\n",
      "_________________________________________________________________\n",
      "Layer (type)                 Output Shape              Param #   \n",
      "=================================================================\n",
      "dense_147 (Dense)            (None, 1024)              66560     \n",
      "_________________________________________________________________\n",
      "dense_148 (Dense)            (None, 512)               524800    \n",
      "_________________________________________________________________\n",
      "dense_149 (Dense)            (None, 512)               262656    \n",
      "_________________________________________________________________\n",
      "dense_150 (Dense)            (None, 512)               262656    \n",
      "_________________________________________________________________\n",
      "dense_151 (Dense)            (None, 1)                 513       \n",
      "=================================================================\n",
      "Total params: 1,117,185\n",
      "Trainable params: 1,117,185\n",
      "Non-trainable params: 0\n",
      "_________________________________________________________________\n"
     ]
    }
   ],
   "source": [
    "model.summary()"
   ]
  },
  {
   "cell_type": "code",
   "execution_count": 100,
   "metadata": {},
   "outputs": [],
   "source": [
    "model.set_weights([np.array([0,0,0,0,0,0,0,1]).reshape(-1,1),[0]])"
   ]
  },
  {
   "cell_type": "code",
   "execution_count": null,
   "metadata": {},
   "outputs": [],
   "source": []
  }
 ],
 "metadata": {
  "kernelspec": {
   "display_name": "Python 3",
   "language": "python",
   "name": "python3"
  },
  "language_info": {
   "codemirror_mode": {
    "name": "ipython",
    "version": 3
   },
   "file_extension": ".py",
   "mimetype": "text/x-python",
   "name": "python",
   "nbconvert_exporter": "python",
   "pygments_lexer": "ipython3",
   "version": "3.6.8"
  }
 },
 "nbformat": 4,
 "nbformat_minor": 2
}
