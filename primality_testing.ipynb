{
  "nbformat": 4,
  "nbformat_minor": 0,
  "metadata": {
    "kernelspec": {
      "name": "python3",
      "display_name": "Python 3"
    },
    "language_info": {
      "codemirror_mode": {
        "name": "ipython",
        "version": 3
      },
      "file_extension": ".py",
      "mimetype": "text/x-python",
      "name": "python",
      "nbconvert_exporter": "python",
      "pygments_lexer": "ipython3",
      "version": "3.7.3"
    },
    "colab": {
      "name": "primality-testing.ipynb",
      "provenance": []
    },
    "accelerator": "GPU"
  },
  "cells": [
    {
      "cell_type": "code",
      "metadata": {
        "id": "pTo9ssJ1uGJl",
        "colab_type": "code",
        "outputId": "5f77898e-6398-41ef-9333-ffad811fe920",
        "colab": {
          "base_uri": "https://localhost:8080/",
          "height": 122
        }
      },
      "source": [
        "from google.colab import drive, files\n",
        "drive.mount('/content/gdrive')"
      ],
      "execution_count": 1,
      "outputs": [
        {
          "output_type": "stream",
          "text": [
            "Go to this URL in a browser: https://accounts.google.com/o/oauth2/auth?client_id=947318989803-6bn6qk8qdgf4n4g3pfee6491hc0brc4i.apps.googleusercontent.com&redirect_uri=urn%3aietf%3awg%3aoauth%3a2.0%3aoob&response_type=code&scope=email%20https%3a%2f%2fwww.googleapis.com%2fauth%2fdocs.test%20https%3a%2f%2fwww.googleapis.com%2fauth%2fdrive%20https%3a%2f%2fwww.googleapis.com%2fauth%2fdrive.photos.readonly%20https%3a%2f%2fwww.googleapis.com%2fauth%2fpeopleapi.readonly\n",
            "\n",
            "Enter your authorization code:\n",
            "··········\n",
            "Mounted at /content/gdrive\n"
          ],
          "name": "stdout"
        }
      ]
    },
    {
      "cell_type": "code",
      "metadata": {
        "id": "0kxuZNTovVNm",
        "colab_type": "code",
        "outputId": "be25538f-a402-4167-a9b9-a57a22c32ea5",
        "colab": {
          "base_uri": "https://localhost:8080/",
          "height": 153
        }
      },
      "source": [
        "pip install -U keras"
      ],
      "execution_count": 2,
      "outputs": [
        {
          "output_type": "stream",
          "text": [
            "Requirement already up-to-date: keras in /usr/local/lib/python3.6/dist-packages (2.3.1)\n",
            "Requirement already satisfied, skipping upgrade: scipy>=0.14 in /usr/local/lib/python3.6/dist-packages (from keras) (1.4.1)\n",
            "Requirement already satisfied, skipping upgrade: six>=1.9.0 in /usr/local/lib/python3.6/dist-packages (from keras) (1.12.0)\n",
            "Requirement already satisfied, skipping upgrade: numpy>=1.9.1 in /usr/local/lib/python3.6/dist-packages (from keras) (1.18.2)\n",
            "Requirement already satisfied, skipping upgrade: keras-preprocessing>=1.0.5 in /usr/local/lib/python3.6/dist-packages (from keras) (1.1.0)\n",
            "Requirement already satisfied, skipping upgrade: h5py in /usr/local/lib/python3.6/dist-packages (from keras) (2.10.0)\n",
            "Requirement already satisfied, skipping upgrade: pyyaml in /usr/local/lib/python3.6/dist-packages (from keras) (3.13)\n",
            "Requirement already satisfied, skipping upgrade: keras-applications>=1.0.6 in /usr/local/lib/python3.6/dist-packages (from keras) (1.0.8)\n"
          ],
          "name": "stdout"
        }
      ]
    },
    {
      "cell_type": "code",
      "metadata": {
        "id": "H8ACXNNluI7b",
        "colab_type": "code",
        "colab": {}
      },
      "source": [
        "path='/content/gdrive/My Drive/'"
      ],
      "execution_count": 0,
      "outputs": []
    },
    {
      "cell_type": "code",
      "metadata": {
        "id": "mnon4NoduDrj",
        "colab_type": "code",
        "outputId": "06cc185a-4b18-4476-f9db-1b3bb640e4d2",
        "colab": {
          "base_uri": "https://localhost:8080/",
          "height": 34
        }
      },
      "source": [
        "import numpy as np\n",
        "import keras\n",
        "from keras.models import Sequential\n",
        "from keras.layers import Dense, Dropout, Flatten,Conv2D, MaxPooling2D\n",
        "\n",
        "from keras.utils import to_categorical\n",
        "from keras.models import Sequential, Model, load_model\n",
        "from keras.layers import Input, Conv1D, Conv2D, MaxPooling1D, MaxPooling2D, Dense, Dropout, Activation, Flatten\n",
        "from keras.layers.normalization import BatchNormalization\n",
        "from keras.optimizers import SGD\n",
        "from keras.callbacks import ModelCheckpoint,ReduceLROnPlateau\n",
        "from keras import regularizers\n",
        "\n",
        "import pandas as pd\n",
        "import matplotlib.pyplot as plt\n",
        "from sklearn.model_selection import train_test_split\n",
        "from keras.utils import to_categorical\n",
        "from tqdm import tqdm\n",
        "from keras.constraints import maxnorm\n",
        "from keras.optimizers import SGD\n",
        "from keras.layers import Activation\n",
        "from keras.initializers import glorot_normal\n",
        "from keras.utils import np_utils\n",
        "from math import ceil,floor\n",
        "from sklearn.metrics import classification_report"
      ],
      "execution_count": 4,
      "outputs": [
        {
          "output_type": "stream",
          "text": [
            "Using TensorFlow backend.\n"
          ],
          "name": "stderr"
        }
      ]
    },
    {
      "cell_type": "code",
      "metadata": {
        "id": "1z3ginUduDrt",
        "colab_type": "code",
        "colab": {}
      },
      "source": [
        "n_bits=40"
      ],
      "execution_count": 0,
      "outputs": []
    },
    {
      "cell_type": "code",
      "metadata": {
        "id": "NZZKrmgwuDr0",
        "colab_type": "code",
        "colab": {}
      },
      "source": [
        "X_train=np.load(path+'xtrain.npy').reshape(-1,n_bits)\n",
        "y_train=np.load(path+'ytrain.npy').reshape(-1,2)\n",
        "X_test=np.load(path+'xtest.npy').reshape(-1,n_bits)\n",
        "y_test=np.load(path+'ytest.npy').reshape(-1,2)\n"
      ],
      "execution_count": 0,
      "outputs": []
    },
    {
      "cell_type": "markdown",
      "metadata": {
        "id": "QIaKEyxDuDr7",
        "colab_type": "text"
      },
      "source": [
        "[0,1] for prime\n",
        "[1,0] for non prime"
      ]
    },
    {
      "cell_type": "markdown",
      "metadata": {
        "id": "wjzYh-4GuDr9",
        "colab_type": "text"
      },
      "source": [
        "## Baseline single layer model"
      ]
    },
    {
      "cell_type": "code",
      "metadata": {
        "deletable": false,
        "editable": false,
        "run_control": {
          "frozen": true
        },
        "id": "m1-XCQeAuDr_",
        "colab_type": "code",
        "outputId": "4357db74-63b5-4cad-aad5-c285fdf81e88",
        "colab": {
          "base_uri": "https://localhost:8080/",
          "height": 187
        }
      },
      "source": [
        "model = Sequential()\n",
        "model.add(Dense(2,activation='softmax',input_shape=(n_bits,)))\n",
        "adam=keras.optimizers.Adam(learning_rate=0.001, beta_1=0.9, beta_2=0.999, amsgrad=False)\n",
        "model.compile(loss = 'binary_crossentropy', optimizer=adam,metrics = ['accuracy'])\n",
        "model.summary()"
      ],
      "execution_count": 7,
      "outputs": [
        {
          "output_type": "stream",
          "text": [
            "Model: \"sequential_1\"\n",
            "_________________________________________________________________\n",
            "Layer (type)                 Output Shape              Param #   \n",
            "=================================================================\n",
            "dense_1 (Dense)              (None, 2)                 82        \n",
            "=================================================================\n",
            "Total params: 82\n",
            "Trainable params: 82\n",
            "Non-trainable params: 0\n",
            "_________________________________________________________________\n"
          ],
          "name": "stdout"
        }
      ]
    },
    {
      "cell_type": "code",
      "metadata": {
        "deletable": false,
        "editable": false,
        "run_control": {
          "frozen": true
        },
        "id": "cPwZf8jQuDsJ",
        "colab_type": "code",
        "outputId": "ab75c823-0009-46c4-8803-7600281896f6",
        "colab": {
          "base_uri": "https://localhost:8080/",
          "height": 1000
        }
      },
      "source": [
        "early_stop=keras.callbacks.callbacks.EarlyStopping(monitor='accuracy', min_delta=0, patience=40, verbose=0, mode='auto', baseline=None, restore_best_weights=False)\n",
        "reduce_lr=keras.callbacks.callbacks.ReduceLROnPlateau(monitor='accuracy', factor=0.1, patience=10, verbose=0, mode='auto', min_delta=0.0001, cooldown=0, min_lr=0)\n",
        "model.fit(X_train,y_train,epochs=50,callbacks=[reduce_lr,early_stop])"
      ],
      "execution_count": 8,
      "outputs": [
        {
          "output_type": "stream",
          "text": [
            "Epoch 1/50\n",
            "500000/500000 [==============================] - 41s 81us/step - loss: 0.4956 - accuracy: 0.7520\n",
            "Epoch 2/50\n",
            "500000/500000 [==============================] - 39s 78us/step - loss: 0.4731 - accuracy: 0.7594\n",
            "Epoch 3/50\n",
            "500000/500000 [==============================] - 37s 75us/step - loss: 0.4706 - accuracy: 0.7594\n",
            "Epoch 4/50\n",
            "500000/500000 [==============================] - 37s 73us/step - loss: 0.4696 - accuracy: 0.7594\n",
            "Epoch 5/50\n",
            "500000/500000 [==============================] - 36s 72us/step - loss: 0.4691 - accuracy: 0.7594\n",
            "Epoch 6/50\n",
            "500000/500000 [==============================] - 36s 71us/step - loss: 0.4688 - accuracy: 0.7594\n",
            "Epoch 7/50\n",
            "500000/500000 [==============================] - 35s 70us/step - loss: 0.4686 - accuracy: 0.7594\n",
            "Epoch 8/50\n",
            "500000/500000 [==============================] - 36s 72us/step - loss: 0.4685 - accuracy: 0.7594\n",
            "Epoch 9/50\n",
            "500000/500000 [==============================] - 35s 70us/step - loss: 0.4684 - accuracy: 0.7594\n",
            "Epoch 10/50\n",
            "500000/500000 [==============================] - 36s 72us/step - loss: 0.4683 - accuracy: 0.7594\n",
            "Epoch 11/50\n",
            "500000/500000 [==============================] - 37s 73us/step - loss: 0.4683 - accuracy: 0.7594\n",
            "Epoch 12/50\n",
            "500000/500000 [==============================] - 36s 71us/step - loss: 0.4683 - accuracy: 0.7594\n",
            "Epoch 13/50\n",
            "500000/500000 [==============================] - 35s 71us/step - loss: 0.4674 - accuracy: 0.7594\n",
            "Epoch 14/50\n",
            "500000/500000 [==============================] - 36s 72us/step - loss: 0.4673 - accuracy: 0.7594\n",
            "Epoch 15/50\n",
            "500000/500000 [==============================] - 35s 70us/step - loss: 0.4673 - accuracy: 0.7594\n",
            "Epoch 16/50\n",
            "500000/500000 [==============================] - 35s 70us/step - loss: 0.4673 - accuracy: 0.7594\n",
            "Epoch 17/50\n",
            "500000/500000 [==============================] - 36s 72us/step - loss: 0.4673 - accuracy: 0.7594\n",
            "Epoch 18/50\n",
            "500000/500000 [==============================] - 35s 71us/step - loss: 0.4673 - accuracy: 0.7594\n",
            "Epoch 19/50\n",
            "500000/500000 [==============================] - 36s 73us/step - loss: 0.4672 - accuracy: 0.7594\n",
            "Epoch 20/50\n",
            "500000/500000 [==============================] - 36s 71us/step - loss: 0.4673 - accuracy: 0.7594\n",
            "Epoch 21/50\n",
            "500000/500000 [==============================] - 35s 71us/step - loss: 0.4673 - accuracy: 0.7594\n",
            "Epoch 22/50\n",
            "500000/500000 [==============================] - 35s 70us/step - loss: 0.4672 - accuracy: 0.7594\n",
            "Epoch 23/50\n",
            "500000/500000 [==============================] - 35s 69us/step - loss: 0.4671 - accuracy: 0.7594\n",
            "Epoch 24/50\n",
            "500000/500000 [==============================] - 35s 70us/step - loss: 0.4671 - accuracy: 0.7594\n",
            "Epoch 25/50\n",
            "500000/500000 [==============================] - 35s 70us/step - loss: 0.4671 - accuracy: 0.7594\n",
            "Epoch 26/50\n",
            "500000/500000 [==============================] - 35s 71us/step - loss: 0.4671 - accuracy: 0.7594\n",
            "Epoch 27/50\n",
            "500000/500000 [==============================] - 35s 70us/step - loss: 0.4671 - accuracy: 0.7594\n",
            "Epoch 28/50\n",
            "500000/500000 [==============================] - 36s 73us/step - loss: 0.4671 - accuracy: 0.7594\n",
            "Epoch 29/50\n",
            "500000/500000 [==============================] - 35s 70us/step - loss: 0.4671 - accuracy: 0.7594\n",
            "Epoch 30/50\n",
            "500000/500000 [==============================] - 35s 70us/step - loss: 0.4671 - accuracy: 0.7594\n",
            "Epoch 31/50\n",
            "500000/500000 [==============================] - 35s 70us/step - loss: 0.4671 - accuracy: 0.7594\n",
            "Epoch 32/50\n",
            "500000/500000 [==============================] - 35s 70us/step - loss: 0.4671 - accuracy: 0.7594\n",
            "Epoch 33/50\n",
            "500000/500000 [==============================] - 35s 70us/step - loss: 0.4671 - accuracy: 0.7594\n",
            "Epoch 34/50\n",
            "500000/500000 [==============================] - 35s 70us/step - loss: 0.4671 - accuracy: 0.7594\n",
            "Epoch 35/50\n",
            "500000/500000 [==============================] - 35s 69us/step - loss: 0.4671 - accuracy: 0.7594\n",
            "Epoch 36/50\n",
            "500000/500000 [==============================] - 35s 69us/step - loss: 0.4671 - accuracy: 0.7594\n",
            "Epoch 37/50\n",
            "500000/500000 [==============================] - 36s 73us/step - loss: 0.4671 - accuracy: 0.7594\n",
            "Epoch 38/50\n",
            "500000/500000 [==============================] - 35s 71us/step - loss: 0.4671 - accuracy: 0.7594\n",
            "Epoch 39/50\n",
            "500000/500000 [==============================] - 36s 72us/step - loss: 0.4671 - accuracy: 0.7594\n",
            "Epoch 40/50\n",
            "500000/500000 [==============================] - 35s 70us/step - loss: 0.4671 - accuracy: 0.7594\n",
            "Epoch 41/50\n",
            "500000/500000 [==============================] - 35s 69us/step - loss: 0.4671 - accuracy: 0.7594\n",
            "Epoch 42/50\n",
            "500000/500000 [==============================] - 35s 70us/step - loss: 0.4671 - accuracy: 0.7594\n",
            "Epoch 43/50\n",
            "500000/500000 [==============================] - 35s 71us/step - loss: 0.4671 - accuracy: 0.7594\n"
          ],
          "name": "stdout"
        },
        {
          "output_type": "execute_result",
          "data": {
            "text/plain": [
              "<keras.callbacks.callbacks.History at 0x7fb90acc22e8>"
            ]
          },
          "metadata": {
            "tags": []
          },
          "execution_count": 8
        }
      ]
    },
    {
      "cell_type": "code",
      "metadata": {
        "deletable": false,
        "editable": false,
        "run_control": {
          "frozen": true
        },
        "id": "Pagw6NBFuDsR",
        "colab_type": "code",
        "outputId": "56a1a456-e1c3-4263-ca65-c2ee45b79359",
        "colab": {
          "base_uri": "https://localhost:8080/",
          "height": 51
        }
      },
      "source": [
        "model.evaluate(X_test,y_test)[1]"
      ],
      "execution_count": 9,
      "outputs": [
        {
          "output_type": "stream",
          "text": [
            "2000/2000 [==============================] - 0s 43us/step\n"
          ],
          "name": "stdout"
        },
        {
          "output_type": "execute_result",
          "data": {
            "text/plain": [
              "0.7605000138282776"
            ]
          },
          "metadata": {
            "tags": []
          },
          "execution_count": 9
        }
      ]
    },
    {
      "cell_type": "markdown",
      "metadata": {
        "id": "fBezi0zHuDsZ",
        "colab_type": "text"
      },
      "source": [
        "The base line model does surprisingly well with an accuracy of 76%\n",
        "Lets look at the weights"
      ]
    },
    {
      "cell_type": "code",
      "metadata": {
        "deletable": false,
        "editable": false,
        "run_control": {
          "frozen": true
        },
        "id": "CUsTIfueuDsb",
        "colab_type": "code",
        "outputId": "941ec37a-ed0d-46bc-de89-514ca75779fd",
        "colab": {
          "base_uri": "https://localhost:8080/",
          "height": 697
        }
      },
      "source": [
        "for layer in model.layers:\n",
        "    print(layer.get_weights())"
      ],
      "execution_count": 10,
      "outputs": [
        {
          "output_type": "stream",
          "text": [
            "[array([[-4.40155044e-02, -1.08361311e-01],\n",
            "       [-3.82731222e-02, -7.01513290e-02],\n",
            "       [-1.97470158e-01, -2.27841109e-01],\n",
            "       [ 2.38424093e-01,  2.24146217e-01],\n",
            "       [ 1.00622512e-01,  9.18215513e-02],\n",
            "       [-2.15671852e-01, -2.33546183e-01],\n",
            "       [-1.57808021e-01, -1.68485984e-01],\n",
            "       [ 1.55925348e-01,  1.43707648e-01],\n",
            "       [ 1.36748582e-01,  1.21481977e-01],\n",
            "       [-2.27177572e-02, -2.13682111e-02],\n",
            "       [ 1.46830782e-01,  1.42297655e-01],\n",
            "       [ 8.88569579e-02,  9.18352455e-02],\n",
            "       [ 5.31717762e-02,  3.91775332e-02],\n",
            "       [ 9.96120498e-02,  8.89956579e-02],\n",
            "       [ 8.48817751e-02,  8.28580335e-02],\n",
            "       [ 1.12035237e-01,  1.12396799e-01],\n",
            "       [-3.67360213e-03, -2.91331718e-03],\n",
            "       [ 5.56271002e-02,  5.76730445e-02],\n",
            "       [-3.85456607e-02, -5.00233509e-02],\n",
            "       [ 1.52010798e-01,  1.55696616e-01],\n",
            "       [-8.62822980e-02, -8.69566351e-02],\n",
            "       [ 3.36920917e-01,  3.30428123e-01],\n",
            "       [ 4.22859453e-02,  4.28772755e-02],\n",
            "       [ 1.66487947e-01,  1.51101977e-01],\n",
            "       [-4.80702221e-02, -5.35018183e-02],\n",
            "       [-9.38482210e-02, -9.90317538e-02],\n",
            "       [ 1.84369430e-01,  1.68721914e-01],\n",
            "       [-2.02737823e-01, -2.05975324e-01],\n",
            "       [ 1.78724360e-02,  1.28652044e-02],\n",
            "       [ 3.69138047e-02,  2.78911572e-02],\n",
            "       [-1.41604513e-01, -1.56176195e-01],\n",
            "       [ 1.49062365e-01,  1.30822510e-01],\n",
            "       [-8.43501762e-02, -7.11004287e-02],\n",
            "       [ 1.84271365e-01,  1.73384055e-01],\n",
            "       [ 6.72345562e-03,  3.75906401e-03],\n",
            "       [-7.98678324e-02, -8.73857662e-02],\n",
            "       [ 2.42540866e-01,  2.27536231e-01],\n",
            "       [ 5.77329136e-02,  5.04333042e-02],\n",
            "       [ 9.49504226e-02,  1.01937674e-01],\n",
            "       [-3.55270767e+00,  3.68288088e+00]], dtype=float32), array([ 3.16285  , -3.1628616], dtype=float32)]\n"
          ],
          "name": "stdout"
        }
      ]
    },
    {
      "cell_type": "code",
      "metadata": {
        "deletable": false,
        "editable": false,
        "run_control": {
          "frozen": true
        },
        "id": "riyTeALXuDsk",
        "colab_type": "code",
        "outputId": "5ade38a5-d2e9-4e4a-eaf0-c5c3b2cfa3d2",
        "colab": {
          "base_uri": "https://localhost:8080/",
          "height": 170
        }
      },
      "source": [
        "pred = model.predict_classes(X_test, verbose=0)\n",
        "print(classification_report([np.where(r==1)[0][0] for r in y_test], pred))"
      ],
      "execution_count": 11,
      "outputs": [
        {
          "output_type": "stream",
          "text": [
            "              precision    recall  f1-score   support\n",
            "\n",
            "           0       1.00      0.52      0.69      1000\n",
            "           1       0.68      1.00      0.81      1000\n",
            "\n",
            "    accuracy                           0.76      2000\n",
            "   macro avg       0.84      0.76      0.75      2000\n",
            "weighted avg       0.84      0.76      0.75      2000\n",
            "\n"
          ],
          "name": "stdout"
        }
      ]
    },
    {
      "cell_type": "markdown",
      "metadata": {
        "id": "0lBKsSzhuDst",
        "colab_type": "text"
      },
      "source": [
        "Precision of predicting a composite number is 1 i.e There are no false positives"
      ]
    },
    {
      "cell_type": "markdown",
      "metadata": {
        "id": "Yle53dOvuDs0",
        "colab_type": "text"
      },
      "source": [
        "## Adding a layer"
      ]
    },
    {
      "cell_type": "code",
      "metadata": {
        "deletable": false,
        "editable": false,
        "run_control": {
          "frozen": true
        },
        "id": "DzxA56HfuDs2",
        "colab_type": "code",
        "outputId": "d811592e-17f3-4b41-dce3-f23568248dce",
        "colab": {
          "base_uri": "https://localhost:8080/",
          "height": 221
        }
      },
      "source": [
        "model = Sequential()\n",
        "model.add(Dense(32,activation='relu',input_shape=(n_bits,)))\n",
        "model.add(Dense(2,activation='softmax'))\n",
        "adam=keras.optimizers.Adam(learning_rate=0.001, beta_1=0.9, beta_2=0.999, amsgrad=False)\n",
        "model.compile(loss = 'binary_crossentropy', optimizer=adam,metrics = ['accuracy'])\n",
        "model.summary()"
      ],
      "execution_count": 7,
      "outputs": [
        {
          "output_type": "stream",
          "text": [
            "Model: \"sequential_1\"\n",
            "_________________________________________________________________\n",
            "Layer (type)                 Output Shape              Param #   \n",
            "=================================================================\n",
            "dense_1 (Dense)              (None, 32)                1312      \n",
            "_________________________________________________________________\n",
            "dense_2 (Dense)              (None, 2)                 66        \n",
            "=================================================================\n",
            "Total params: 1,378\n",
            "Trainable params: 1,378\n",
            "Non-trainable params: 0\n",
            "_________________________________________________________________\n"
          ],
          "name": "stdout"
        }
      ]
    },
    {
      "cell_type": "code",
      "metadata": {
        "deletable": false,
        "editable": false,
        "run_control": {
          "frozen": true
        },
        "id": "FvTH372SuDs_",
        "colab_type": "code",
        "outputId": "72fc7ce1-9dcf-45f0-d152-63faffb18da9",
        "colab": {
          "base_uri": "https://localhost:8080/",
          "height": 1000
        }
      },
      "source": [
        "early_stop=keras.callbacks.callbacks.EarlyStopping(monitor='accuracy', min_delta=0, patience=40, verbose=0, mode='auto', baseline=None, restore_best_weights=False)\n",
        "reduce_lr=keras.callbacks.callbacks.ReduceLROnPlateau(monitor='accuracy', factor=0.1, patience=10, verbose=0, mode='auto', min_delta=0.0001, cooldown=0, min_lr=0)\n",
        "model.fit(X_train,y_train,epochs=200,callbacks=[reduce_lr,early_stop])"
      ],
      "execution_count": 8,
      "outputs": [
        {
          "output_type": "stream",
          "text": [
            "Epoch 1/200\n",
            "500000/500000 [==============================] - 64s 128us/step - loss: 0.4807 - accuracy: 0.7541\n",
            "Epoch 2/200\n",
            "500000/500000 [==============================] - 60s 119us/step - loss: 0.4706 - accuracy: 0.7592\n",
            "Epoch 3/200\n",
            "500000/500000 [==============================] - 60s 120us/step - loss: 0.4684 - accuracy: 0.7594\n",
            "Epoch 4/200\n",
            "500000/500000 [==============================] - 58s 115us/step - loss: 0.4676 - accuracy: 0.7594\n",
            "Epoch 5/200\n",
            "500000/500000 [==============================] - 57s 113us/step - loss: 0.4672 - accuracy: 0.7594\n",
            "Epoch 6/200\n",
            "500000/500000 [==============================] - 59s 117us/step - loss: 0.4668 - accuracy: 0.7594\n",
            "Epoch 7/200\n",
            "500000/500000 [==============================] - 58s 117us/step - loss: 0.4667 - accuracy: 0.7595\n",
            "Epoch 8/200\n",
            "500000/500000 [==============================] - 60s 119us/step - loss: 0.4667 - accuracy: 0.7595\n",
            "Epoch 9/200\n",
            "500000/500000 [==============================] - 60s 120us/step - loss: 0.4666 - accuracy: 0.7595\n",
            "Epoch 10/200\n",
            "500000/500000 [==============================] - 58s 117us/step - loss: 0.4666 - accuracy: 0.7595\n",
            "Epoch 11/200\n",
            "500000/500000 [==============================] - 60s 120us/step - loss: 0.4665 - accuracy: 0.7595\n",
            "Epoch 12/200\n",
            "500000/500000 [==============================] - 59s 118us/step - loss: 0.4664 - accuracy: 0.7595\n",
            "Epoch 13/200\n",
            "500000/500000 [==============================] - 60s 120us/step - loss: 0.4663 - accuracy: 0.7595\n",
            "Epoch 14/200\n",
            "500000/500000 [==============================] - 60s 120us/step - loss: 0.4663 - accuracy: 0.7595\n",
            "Epoch 15/200\n",
            "500000/500000 [==============================] - 59s 118us/step - loss: 0.4663 - accuracy: 0.7595\n",
            "Epoch 16/200\n",
            "500000/500000 [==============================] - 60s 120us/step - loss: 0.4662 - accuracy: 0.7595\n",
            "Epoch 17/200\n",
            "500000/500000 [==============================] - 60s 121us/step - loss: 0.4662 - accuracy: 0.7595\n",
            "Epoch 18/200\n",
            "500000/500000 [==============================] - 65s 130us/step - loss: 0.4662 - accuracy: 0.7596\n",
            "Epoch 19/200\n",
            "500000/500000 [==============================] - 61s 122us/step - loss: 0.4662 - accuracy: 0.7596\n",
            "Epoch 20/200\n",
            " 95872/500000 [====>.........................] - ETA: 50s - loss: 0.4677 - accuracy: 0.7574"
          ],
          "name": "stdout"
        },
        {
          "output_type": "error",
          "ename": "KeyboardInterrupt",
          "evalue": "ignored",
          "traceback": [
            "\u001b[0;31m---------------------------------------------------------------------------\u001b[0m",
            "\u001b[0;31mKeyboardInterrupt\u001b[0m                         Traceback (most recent call last)",
            "\u001b[0;32m<ipython-input-8-3b277ad92393>\u001b[0m in \u001b[0;36m<module>\u001b[0;34m()\u001b[0m\n\u001b[1;32m      1\u001b[0m \u001b[0mearly_stop\u001b[0m\u001b[0;34m=\u001b[0m\u001b[0mkeras\u001b[0m\u001b[0;34m.\u001b[0m\u001b[0mcallbacks\u001b[0m\u001b[0;34m.\u001b[0m\u001b[0mcallbacks\u001b[0m\u001b[0;34m.\u001b[0m\u001b[0mEarlyStopping\u001b[0m\u001b[0;34m(\u001b[0m\u001b[0mmonitor\u001b[0m\u001b[0;34m=\u001b[0m\u001b[0;34m'accuracy'\u001b[0m\u001b[0;34m,\u001b[0m \u001b[0mmin_delta\u001b[0m\u001b[0;34m=\u001b[0m\u001b[0;36m0\u001b[0m\u001b[0;34m,\u001b[0m \u001b[0mpatience\u001b[0m\u001b[0;34m=\u001b[0m\u001b[0;36m40\u001b[0m\u001b[0;34m,\u001b[0m \u001b[0mverbose\u001b[0m\u001b[0;34m=\u001b[0m\u001b[0;36m0\u001b[0m\u001b[0;34m,\u001b[0m \u001b[0mmode\u001b[0m\u001b[0;34m=\u001b[0m\u001b[0;34m'auto'\u001b[0m\u001b[0;34m,\u001b[0m \u001b[0mbaseline\u001b[0m\u001b[0;34m=\u001b[0m\u001b[0;32mNone\u001b[0m\u001b[0;34m,\u001b[0m \u001b[0mrestore_best_weights\u001b[0m\u001b[0;34m=\u001b[0m\u001b[0;32mFalse\u001b[0m\u001b[0;34m)\u001b[0m\u001b[0;34m\u001b[0m\u001b[0;34m\u001b[0m\u001b[0m\n\u001b[1;32m      2\u001b[0m \u001b[0mreduce_lr\u001b[0m\u001b[0;34m=\u001b[0m\u001b[0mkeras\u001b[0m\u001b[0;34m.\u001b[0m\u001b[0mcallbacks\u001b[0m\u001b[0;34m.\u001b[0m\u001b[0mcallbacks\u001b[0m\u001b[0;34m.\u001b[0m\u001b[0mReduceLROnPlateau\u001b[0m\u001b[0;34m(\u001b[0m\u001b[0mmonitor\u001b[0m\u001b[0;34m=\u001b[0m\u001b[0;34m'accuracy'\u001b[0m\u001b[0;34m,\u001b[0m \u001b[0mfactor\u001b[0m\u001b[0;34m=\u001b[0m\u001b[0;36m0.1\u001b[0m\u001b[0;34m,\u001b[0m \u001b[0mpatience\u001b[0m\u001b[0;34m=\u001b[0m\u001b[0;36m10\u001b[0m\u001b[0;34m,\u001b[0m \u001b[0mverbose\u001b[0m\u001b[0;34m=\u001b[0m\u001b[0;36m0\u001b[0m\u001b[0;34m,\u001b[0m \u001b[0mmode\u001b[0m\u001b[0;34m=\u001b[0m\u001b[0;34m'auto'\u001b[0m\u001b[0;34m,\u001b[0m \u001b[0mmin_delta\u001b[0m\u001b[0;34m=\u001b[0m\u001b[0;36m0.0001\u001b[0m\u001b[0;34m,\u001b[0m \u001b[0mcooldown\u001b[0m\u001b[0;34m=\u001b[0m\u001b[0;36m0\u001b[0m\u001b[0;34m,\u001b[0m \u001b[0mmin_lr\u001b[0m\u001b[0;34m=\u001b[0m\u001b[0;36m0\u001b[0m\u001b[0;34m)\u001b[0m\u001b[0;34m\u001b[0m\u001b[0;34m\u001b[0m\u001b[0m\n\u001b[0;32m----> 3\u001b[0;31m \u001b[0mmodel\u001b[0m\u001b[0;34m.\u001b[0m\u001b[0mfit\u001b[0m\u001b[0;34m(\u001b[0m\u001b[0mX_train\u001b[0m\u001b[0;34m,\u001b[0m\u001b[0my_train\u001b[0m\u001b[0;34m,\u001b[0m\u001b[0mepochs\u001b[0m\u001b[0;34m=\u001b[0m\u001b[0;36m200\u001b[0m\u001b[0;34m,\u001b[0m\u001b[0mcallbacks\u001b[0m\u001b[0;34m=\u001b[0m\u001b[0;34m[\u001b[0m\u001b[0mreduce_lr\u001b[0m\u001b[0;34m,\u001b[0m\u001b[0mearly_stop\u001b[0m\u001b[0;34m]\u001b[0m\u001b[0;34m)\u001b[0m\u001b[0;34m\u001b[0m\u001b[0;34m\u001b[0m\u001b[0m\n\u001b[0m",
            "\u001b[0;32m/usr/local/lib/python3.6/dist-packages/keras/engine/training.py\u001b[0m in \u001b[0;36mfit\u001b[0;34m(self, x, y, batch_size, epochs, verbose, callbacks, validation_split, validation_data, shuffle, class_weight, sample_weight, initial_epoch, steps_per_epoch, validation_steps, validation_freq, max_queue_size, workers, use_multiprocessing, **kwargs)\u001b[0m\n\u001b[1;32m   1237\u001b[0m                                         \u001b[0msteps_per_epoch\u001b[0m\u001b[0;34m=\u001b[0m\u001b[0msteps_per_epoch\u001b[0m\u001b[0;34m,\u001b[0m\u001b[0;34m\u001b[0m\u001b[0;34m\u001b[0m\u001b[0m\n\u001b[1;32m   1238\u001b[0m                                         \u001b[0mvalidation_steps\u001b[0m\u001b[0;34m=\u001b[0m\u001b[0mvalidation_steps\u001b[0m\u001b[0;34m,\u001b[0m\u001b[0;34m\u001b[0m\u001b[0;34m\u001b[0m\u001b[0m\n\u001b[0;32m-> 1239\u001b[0;31m                                         validation_freq=validation_freq)\n\u001b[0m\u001b[1;32m   1240\u001b[0m \u001b[0;34m\u001b[0m\u001b[0m\n\u001b[1;32m   1241\u001b[0m     def evaluate(self,\n",
            "\u001b[0;32m/usr/local/lib/python3.6/dist-packages/keras/engine/training_arrays.py\u001b[0m in \u001b[0;36mfit_loop\u001b[0;34m(model, fit_function, fit_inputs, out_labels, batch_size, epochs, verbose, callbacks, val_function, val_inputs, shuffle, initial_epoch, steps_per_epoch, validation_steps, validation_freq)\u001b[0m\n\u001b[1;32m    194\u001b[0m                     \u001b[0mins_batch\u001b[0m\u001b[0;34m[\u001b[0m\u001b[0mi\u001b[0m\u001b[0;34m]\u001b[0m \u001b[0;34m=\u001b[0m \u001b[0mins_batch\u001b[0m\u001b[0;34m[\u001b[0m\u001b[0mi\u001b[0m\u001b[0;34m]\u001b[0m\u001b[0;34m.\u001b[0m\u001b[0mtoarray\u001b[0m\u001b[0;34m(\u001b[0m\u001b[0;34m)\u001b[0m\u001b[0;34m\u001b[0m\u001b[0;34m\u001b[0m\u001b[0m\n\u001b[1;32m    195\u001b[0m \u001b[0;34m\u001b[0m\u001b[0m\n\u001b[0;32m--> 196\u001b[0;31m                 \u001b[0mouts\u001b[0m \u001b[0;34m=\u001b[0m \u001b[0mfit_function\u001b[0m\u001b[0;34m(\u001b[0m\u001b[0mins_batch\u001b[0m\u001b[0;34m)\u001b[0m\u001b[0;34m\u001b[0m\u001b[0;34m\u001b[0m\u001b[0m\n\u001b[0m\u001b[1;32m    197\u001b[0m                 \u001b[0mouts\u001b[0m \u001b[0;34m=\u001b[0m \u001b[0mto_list\u001b[0m\u001b[0;34m(\u001b[0m\u001b[0mouts\u001b[0m\u001b[0;34m)\u001b[0m\u001b[0;34m\u001b[0m\u001b[0;34m\u001b[0m\u001b[0m\n\u001b[1;32m    198\u001b[0m                 \u001b[0;32mfor\u001b[0m \u001b[0ml\u001b[0m\u001b[0;34m,\u001b[0m \u001b[0mo\u001b[0m \u001b[0;32min\u001b[0m \u001b[0mzip\u001b[0m\u001b[0;34m(\u001b[0m\u001b[0mout_labels\u001b[0m\u001b[0;34m,\u001b[0m \u001b[0mouts\u001b[0m\u001b[0;34m)\u001b[0m\u001b[0;34m:\u001b[0m\u001b[0;34m\u001b[0m\u001b[0;34m\u001b[0m\u001b[0m\n",
            "\u001b[0;32m/usr/local/lib/python3.6/dist-packages/tensorflow/python/keras/backend.py\u001b[0m in \u001b[0;36m__call__\u001b[0;34m(self, inputs)\u001b[0m\n\u001b[1;32m   3790\u001b[0m         \u001b[0mvalue\u001b[0m \u001b[0;34m=\u001b[0m \u001b[0mmath_ops\u001b[0m\u001b[0;34m.\u001b[0m\u001b[0mcast\u001b[0m\u001b[0;34m(\u001b[0m\u001b[0mvalue\u001b[0m\u001b[0;34m,\u001b[0m \u001b[0mtensor\u001b[0m\u001b[0;34m.\u001b[0m\u001b[0mdtype\u001b[0m\u001b[0;34m)\u001b[0m\u001b[0;34m\u001b[0m\u001b[0;34m\u001b[0m\u001b[0m\n\u001b[1;32m   3791\u001b[0m       \u001b[0mconverted_inputs\u001b[0m\u001b[0;34m.\u001b[0m\u001b[0mappend\u001b[0m\u001b[0;34m(\u001b[0m\u001b[0mvalue\u001b[0m\u001b[0;34m)\u001b[0m\u001b[0;34m\u001b[0m\u001b[0;34m\u001b[0m\u001b[0m\n\u001b[0;32m-> 3792\u001b[0;31m     \u001b[0moutputs\u001b[0m \u001b[0;34m=\u001b[0m \u001b[0mself\u001b[0m\u001b[0;34m.\u001b[0m\u001b[0m_graph_fn\u001b[0m\u001b[0;34m(\u001b[0m\u001b[0;34m*\u001b[0m\u001b[0mconverted_inputs\u001b[0m\u001b[0;34m)\u001b[0m\u001b[0;34m\u001b[0m\u001b[0;34m\u001b[0m\u001b[0m\n\u001b[0m\u001b[1;32m   3793\u001b[0m \u001b[0;34m\u001b[0m\u001b[0m\n\u001b[1;32m   3794\u001b[0m     \u001b[0;31m# EagerTensor.numpy() will often make a copy to ensure memory safety.\u001b[0m\u001b[0;34m\u001b[0m\u001b[0;34m\u001b[0m\u001b[0;34m\u001b[0m\u001b[0m\n",
            "\u001b[0;32m/usr/local/lib/python3.6/dist-packages/tensorflow/python/eager/function.py\u001b[0m in \u001b[0;36m__call__\u001b[0;34m(self, *args, **kwargs)\u001b[0m\n\u001b[1;32m   1603\u001b[0m       \u001b[0mTypeError\u001b[0m\u001b[0;34m:\u001b[0m \u001b[0mFor\u001b[0m \u001b[0minvalid\u001b[0m \u001b[0mpositional\u001b[0m\u001b[0;34m/\u001b[0m\u001b[0mkeyword\u001b[0m \u001b[0margument\u001b[0m \u001b[0mcombinations\u001b[0m\u001b[0;34m.\u001b[0m\u001b[0;34m\u001b[0m\u001b[0;34m\u001b[0m\u001b[0m\n\u001b[1;32m   1604\u001b[0m     \"\"\"\n\u001b[0;32m-> 1605\u001b[0;31m     \u001b[0;32mreturn\u001b[0m \u001b[0mself\u001b[0m\u001b[0;34m.\u001b[0m\u001b[0m_call_impl\u001b[0m\u001b[0;34m(\u001b[0m\u001b[0margs\u001b[0m\u001b[0;34m,\u001b[0m \u001b[0mkwargs\u001b[0m\u001b[0;34m)\u001b[0m\u001b[0;34m\u001b[0m\u001b[0;34m\u001b[0m\u001b[0m\n\u001b[0m\u001b[1;32m   1606\u001b[0m \u001b[0;34m\u001b[0m\u001b[0m\n\u001b[1;32m   1607\u001b[0m   \u001b[0;32mdef\u001b[0m \u001b[0m_call_impl\u001b[0m\u001b[0;34m(\u001b[0m\u001b[0mself\u001b[0m\u001b[0;34m,\u001b[0m \u001b[0margs\u001b[0m\u001b[0;34m,\u001b[0m \u001b[0mkwargs\u001b[0m\u001b[0;34m,\u001b[0m \u001b[0mcancellation_manager\u001b[0m\u001b[0;34m=\u001b[0m\u001b[0;32mNone\u001b[0m\u001b[0;34m)\u001b[0m\u001b[0;34m:\u001b[0m\u001b[0;34m\u001b[0m\u001b[0;34m\u001b[0m\u001b[0m\n",
            "\u001b[0;32m/usr/local/lib/python3.6/dist-packages/tensorflow/python/eager/function.py\u001b[0m in \u001b[0;36m_call_impl\u001b[0;34m(self, args, kwargs, cancellation_manager)\u001b[0m\n\u001b[1;32m   1643\u001b[0m       raise TypeError(\"Keyword arguments {} unknown. Expected {}.\".format(\n\u001b[1;32m   1644\u001b[0m           list(kwargs.keys()), list(self._arg_keywords)))\n\u001b[0;32m-> 1645\u001b[0;31m     \u001b[0;32mreturn\u001b[0m \u001b[0mself\u001b[0m\u001b[0;34m.\u001b[0m\u001b[0m_call_flat\u001b[0m\u001b[0;34m(\u001b[0m\u001b[0margs\u001b[0m\u001b[0;34m,\u001b[0m \u001b[0mself\u001b[0m\u001b[0;34m.\u001b[0m\u001b[0mcaptured_inputs\u001b[0m\u001b[0;34m,\u001b[0m \u001b[0mcancellation_manager\u001b[0m\u001b[0;34m)\u001b[0m\u001b[0;34m\u001b[0m\u001b[0;34m\u001b[0m\u001b[0m\n\u001b[0m\u001b[1;32m   1646\u001b[0m \u001b[0;34m\u001b[0m\u001b[0m\n\u001b[1;32m   1647\u001b[0m   \u001b[0;32mdef\u001b[0m \u001b[0m_filtered_call\u001b[0m\u001b[0;34m(\u001b[0m\u001b[0mself\u001b[0m\u001b[0;34m,\u001b[0m \u001b[0margs\u001b[0m\u001b[0;34m,\u001b[0m \u001b[0mkwargs\u001b[0m\u001b[0;34m)\u001b[0m\u001b[0;34m:\u001b[0m\u001b[0;34m\u001b[0m\u001b[0;34m\u001b[0m\u001b[0m\n",
            "\u001b[0;32m/usr/local/lib/python3.6/dist-packages/tensorflow/python/eager/function.py\u001b[0m in \u001b[0;36m_call_flat\u001b[0;34m(self, args, captured_inputs, cancellation_manager)\u001b[0m\n\u001b[1;32m   1744\u001b[0m       \u001b[0;31m# No tape is watching; skip to running the function.\u001b[0m\u001b[0;34m\u001b[0m\u001b[0;34m\u001b[0m\u001b[0;34m\u001b[0m\u001b[0m\n\u001b[1;32m   1745\u001b[0m       return self._build_call_outputs(self._inference_function.call(\n\u001b[0;32m-> 1746\u001b[0;31m           ctx, args, cancellation_manager=cancellation_manager))\n\u001b[0m\u001b[1;32m   1747\u001b[0m     forward_backward = self._select_forward_and_backward_functions(\n\u001b[1;32m   1748\u001b[0m         \u001b[0margs\u001b[0m\u001b[0;34m,\u001b[0m\u001b[0;34m\u001b[0m\u001b[0;34m\u001b[0m\u001b[0m\n",
            "\u001b[0;32m/usr/local/lib/python3.6/dist-packages/tensorflow/python/eager/function.py\u001b[0m in \u001b[0;36mcall\u001b[0;34m(self, ctx, args, cancellation_manager)\u001b[0m\n\u001b[1;32m    596\u001b[0m               \u001b[0minputs\u001b[0m\u001b[0;34m=\u001b[0m\u001b[0margs\u001b[0m\u001b[0;34m,\u001b[0m\u001b[0;34m\u001b[0m\u001b[0;34m\u001b[0m\u001b[0m\n\u001b[1;32m    597\u001b[0m               \u001b[0mattrs\u001b[0m\u001b[0;34m=\u001b[0m\u001b[0mattrs\u001b[0m\u001b[0;34m,\u001b[0m\u001b[0;34m\u001b[0m\u001b[0;34m\u001b[0m\u001b[0m\n\u001b[0;32m--> 598\u001b[0;31m               ctx=ctx)\n\u001b[0m\u001b[1;32m    599\u001b[0m         \u001b[0;32melse\u001b[0m\u001b[0;34m:\u001b[0m\u001b[0;34m\u001b[0m\u001b[0;34m\u001b[0m\u001b[0m\n\u001b[1;32m    600\u001b[0m           outputs = execute.execute_with_cancellation(\n",
            "\u001b[0;32m/usr/local/lib/python3.6/dist-packages/tensorflow/python/eager/execute.py\u001b[0m in \u001b[0;36mquick_execute\u001b[0;34m(op_name, num_outputs, inputs, attrs, ctx, name)\u001b[0m\n\u001b[1;32m     58\u001b[0m     \u001b[0mctx\u001b[0m\u001b[0;34m.\u001b[0m\u001b[0mensure_initialized\u001b[0m\u001b[0;34m(\u001b[0m\u001b[0;34m)\u001b[0m\u001b[0;34m\u001b[0m\u001b[0;34m\u001b[0m\u001b[0m\n\u001b[1;32m     59\u001b[0m     tensors = pywrap_tfe.TFE_Py_Execute(ctx._handle, device_name, op_name,\n\u001b[0;32m---> 60\u001b[0;31m                                         inputs, attrs, num_outputs)\n\u001b[0m\u001b[1;32m     61\u001b[0m   \u001b[0;32mexcept\u001b[0m \u001b[0mcore\u001b[0m\u001b[0;34m.\u001b[0m\u001b[0m_NotOkStatusException\u001b[0m \u001b[0;32mas\u001b[0m \u001b[0me\u001b[0m\u001b[0;34m:\u001b[0m\u001b[0;34m\u001b[0m\u001b[0;34m\u001b[0m\u001b[0m\n\u001b[1;32m     62\u001b[0m     \u001b[0;32mif\u001b[0m \u001b[0mname\u001b[0m \u001b[0;32mis\u001b[0m \u001b[0;32mnot\u001b[0m \u001b[0;32mNone\u001b[0m\u001b[0;34m:\u001b[0m\u001b[0;34m\u001b[0m\u001b[0;34m\u001b[0m\u001b[0m\n",
            "\u001b[0;31mKeyboardInterrupt\u001b[0m: "
          ]
        }
      ]
    },
    {
      "cell_type": "code",
      "metadata": {
        "deletable": false,
        "editable": false,
        "run_control": {
          "frozen": true
        },
        "id": "w5Xrkl47uDtK",
        "colab_type": "code",
        "outputId": "ef1b3ecc-6dde-41bb-e43a-3490fccb0538",
        "colab": {
          "base_uri": "https://localhost:8080/",
          "height": 51
        }
      },
      "source": [
        "model.evaluate(X_test,y_test)[1]"
      ],
      "execution_count": 9,
      "outputs": [
        {
          "output_type": "stream",
          "text": [
            "2000/2000 [==============================] - 0s 70us/step\n"
          ],
          "name": "stdout"
        },
        {
          "output_type": "execute_result",
          "data": {
            "text/plain": [
              "0.7595000267028809"
            ]
          },
          "metadata": {
            "tags": []
          },
          "execution_count": 9
        }
      ]
    },
    {
      "cell_type": "markdown",
      "metadata": {
        "id": "odsoadzruDtU",
        "colab_type": "text"
      },
      "source": [
        "## Adding more layers and increasing traing size to 500000 samples"
      ]
    },
    {
      "cell_type": "code",
      "metadata": {
        "id": "YExlxClSuDtV",
        "colab_type": "code",
        "outputId": "41869ca3-af98-4e5c-eb61-01513bc5a474",
        "colab": {
          "base_uri": "https://localhost:8080/",
          "height": 459
        }
      },
      "source": [
        "model = Sequential()\n",
        "model.add(Dense(256,activation='relu',input_shape=(n_bits,)))\n",
        "#model.add(Dropout(0.4))\n",
        "model.add(Dense(256,activation='relu'))\n",
        "model.add(Dense(256,activation='relu'))\n",
        "model.add(Dense(256,activation='relu'))\n",
        "model.add(Dense(256,activation='relu'))\n",
        "#model.add(Dropout(0.4))\n",
        "model.add(Dense(128,activation='relu'))\n",
        "#model.add(Dropout(0.4))\n",
        "model.add(Dense(128,activation='relu'))\n",
        "model.add(Dense(64,activation='relu'))\n",
        "model.add(Dense(2,activation='softmax'))\n",
        "adam=keras.optimizers.Adam(learning_rate=0.001, beta_1=0.9, beta_2=0.999, amsgrad=False)\n",
        "model.compile(loss = 'binary_crossentropy', optimizer=adam,metrics = ['accuracy'])\n",
        "model.summary()"
      ],
      "execution_count": 10,
      "outputs": [
        {
          "output_type": "stream",
          "text": [
            "Model: \"sequential_2\"\n",
            "_________________________________________________________________\n",
            "Layer (type)                 Output Shape              Param #   \n",
            "=================================================================\n",
            "dense_3 (Dense)              (None, 256)               10496     \n",
            "_________________________________________________________________\n",
            "dense_4 (Dense)              (None, 256)               65792     \n",
            "_________________________________________________________________\n",
            "dense_5 (Dense)              (None, 256)               65792     \n",
            "_________________________________________________________________\n",
            "dense_6 (Dense)              (None, 256)               65792     \n",
            "_________________________________________________________________\n",
            "dense_7 (Dense)              (None, 256)               65792     \n",
            "_________________________________________________________________\n",
            "dense_8 (Dense)              (None, 128)               32896     \n",
            "_________________________________________________________________\n",
            "dense_9 (Dense)              (None, 128)               16512     \n",
            "_________________________________________________________________\n",
            "dense_10 (Dense)             (None, 64)                8256      \n",
            "_________________________________________________________________\n",
            "dense_11 (Dense)             (None, 2)                 130       \n",
            "=================================================================\n",
            "Total params: 331,458\n",
            "Trainable params: 331,458\n",
            "Non-trainable params: 0\n",
            "_________________________________________________________________\n"
          ],
          "name": "stdout"
        }
      ]
    },
    {
      "cell_type": "code",
      "metadata": {
        "id": "84OSt3hbuDtb",
        "colab_type": "code",
        "outputId": "5fdddfb0-cffe-4a9e-e585-e0f36ada067d",
        "colab": {
          "base_uri": "https://localhost:8080/",
          "height": 1000
        }
      },
      "source": [
        "early_stop=keras.callbacks.callbacks.EarlyStopping(monitor='accuracy', min_delta=0, patience=40, verbose=0, mode='auto', baseline=None, restore_best_weights=False)\n",
        "reduce_lr=keras.callbacks.callbacks.ReduceLROnPlateau(monitor='accuracy', factor=0.1, patience=10, verbose=0, mode='auto', min_delta=0.0001, cooldown=0, min_lr=0)\n",
        "model.fit(X_train,y_train,epochs=200,callbacks=[reduce_lr,early_stop])"
      ],
      "execution_count": 11,
      "outputs": [
        {
          "output_type": "stream",
          "text": [
            "Epoch 1/200\n",
            "500000/500000 [==============================] - 118s 235us/step - loss: 0.4686 - accuracy: 0.7585\n",
            "Epoch 2/200\n",
            "500000/500000 [==============================] - 117s 234us/step - loss: 0.4747 - accuracy: 0.7543\n",
            "Epoch 3/200\n",
            "500000/500000 [==============================] - 118s 235us/step - loss: 0.4689 - accuracy: 0.7584\n",
            "Epoch 4/200\n",
            "500000/500000 [==============================] - 117s 234us/step - loss: 0.4851 - accuracy: 0.7407\n",
            "Epoch 5/200\n",
            "500000/500000 [==============================] - 117s 233us/step - loss: 0.4967 - accuracy: 0.7276\n",
            "Epoch 6/200\n",
            "500000/500000 [==============================] - 117s 233us/step - loss: 0.4697 - accuracy: 0.7585\n",
            "Epoch 7/200\n",
            "500000/500000 [==============================] - 116s 232us/step - loss: 0.4669 - accuracy: 0.7594\n",
            "Epoch 8/200\n",
            "500000/500000 [==============================] - 117s 233us/step - loss: 0.4669 - accuracy: 0.7594\n",
            "Epoch 9/200\n",
            "500000/500000 [==============================] - 116s 232us/step - loss: 0.4669 - accuracy: 0.7594\n",
            "Epoch 10/200\n",
            "500000/500000 [==============================] - 116s 232us/step - loss: 0.4669 - accuracy: 0.7594\n",
            "Epoch 11/200\n",
            "500000/500000 [==============================] - 115s 231us/step - loss: 0.4669 - accuracy: 0.7594\n",
            "Epoch 12/200\n",
            "500000/500000 [==============================] - 115s 229us/step - loss: 0.4669 - accuracy: 0.7594\n",
            "Epoch 13/200\n",
            "500000/500000 [==============================] - 115s 231us/step - loss: 0.4669 - accuracy: 0.7594\n",
            "Epoch 14/200\n",
            "500000/500000 [==============================] - 114s 228us/step - loss: 0.4669 - accuracy: 0.7594\n",
            "Epoch 15/200\n",
            "500000/500000 [==============================] - 115s 229us/step - loss: 0.4669 - accuracy: 0.7594\n",
            "Epoch 16/200\n",
            "500000/500000 [==============================] - 116s 231us/step - loss: 0.4669 - accuracy: 0.7594\n",
            "Epoch 17/200\n",
            "500000/500000 [==============================] - 115s 230us/step - loss: 0.4669 - accuracy: 0.7594\n",
            "Epoch 18/200\n",
            "500000/500000 [==============================] - 116s 231us/step - loss: 0.4669 - accuracy: 0.7594\n",
            "Epoch 19/200\n",
            "500000/500000 [==============================] - 115s 231us/step - loss: 0.4669 - accuracy: 0.7594\n",
            "Epoch 20/200\n",
            "500000/500000 [==============================] - 115s 231us/step - loss: 0.4669 - accuracy: 0.7594\n",
            "Epoch 21/200\n",
            "500000/500000 [==============================] - 116s 232us/step - loss: 0.4669 - accuracy: 0.7594\n",
            "Epoch 22/200\n",
            "500000/500000 [==============================] - 115s 230us/step - loss: 0.4669 - accuracy: 0.7594\n",
            "Epoch 23/200\n",
            "500000/500000 [==============================] - 115s 230us/step - loss: 0.4669 - accuracy: 0.7594\n",
            "Epoch 24/200\n",
            "500000/500000 [==============================] - 116s 232us/step - loss: 0.4669 - accuracy: 0.7594\n",
            "Epoch 25/200\n",
            "500000/500000 [==============================] - 115s 230us/step - loss: 0.4669 - accuracy: 0.7594\n",
            "Epoch 26/200\n",
            "500000/500000 [==============================] - 116s 231us/step - loss: 0.4669 - accuracy: 0.7594\n",
            "Epoch 27/200\n",
            "500000/500000 [==============================] - 117s 235us/step - loss: 0.4669 - accuracy: 0.7594\n",
            "Epoch 28/200\n",
            "500000/500000 [==============================] - 115s 231us/step - loss: 0.4669 - accuracy: 0.7594\n",
            "Epoch 29/200\n",
            "500000/500000 [==============================] - 116s 233us/step - loss: 0.4669 - accuracy: 0.7594\n",
            "Epoch 30/200\n",
            "500000/500000 [==============================] - 116s 232us/step - loss: 0.4669 - accuracy: 0.7594\n",
            "Epoch 31/200\n",
            "500000/500000 [==============================] - 116s 232us/step - loss: 0.4669 - accuracy: 0.7594\n",
            "Epoch 32/200\n",
            "500000/500000 [==============================] - 116s 233us/step - loss: 0.4669 - accuracy: 0.7594\n",
            "Epoch 33/200\n",
            "500000/500000 [==============================] - 115s 231us/step - loss: 0.4669 - accuracy: 0.7594\n",
            "Epoch 34/200\n",
            "500000/500000 [==============================] - 115s 231us/step - loss: 0.4669 - accuracy: 0.7594\n",
            "Epoch 35/200\n",
            "500000/500000 [==============================] - 117s 234us/step - loss: 0.4669 - accuracy: 0.7594\n",
            "Epoch 36/200\n",
            "500000/500000 [==============================] - 116s 232us/step - loss: 0.4669 - accuracy: 0.7594\n",
            "Epoch 37/200\n",
            "500000/500000 [==============================] - 116s 232us/step - loss: 0.4669 - accuracy: 0.7594\n",
            "Epoch 38/200\n",
            "500000/500000 [==============================] - 115s 230us/step - loss: 0.4669 - accuracy: 0.7594\n",
            "Epoch 39/200\n",
            "500000/500000 [==============================] - 115s 230us/step - loss: 0.4669 - accuracy: 0.7594\n",
            "Epoch 40/200\n",
            "500000/500000 [==============================] - 115s 230us/step - loss: 0.4669 - accuracy: 0.7594\n",
            "Epoch 41/200\n",
            "500000/500000 [==============================] - 115s 230us/step - loss: 0.4669 - accuracy: 0.7594\n",
            "Epoch 42/200\n",
            "500000/500000 [==============================] - 116s 231us/step - loss: 0.4669 - accuracy: 0.7594\n",
            "Epoch 43/200\n",
            "500000/500000 [==============================] - 115s 230us/step - loss: 0.4669 - accuracy: 0.7594\n",
            "Epoch 44/200\n",
            "500000/500000 [==============================] - 115s 229us/step - loss: 0.4669 - accuracy: 0.7594\n",
            "Epoch 45/200\n",
            "500000/500000 [==============================] - 115s 231us/step - loss: 0.4669 - accuracy: 0.7594\n",
            "Epoch 46/200\n",
            "500000/500000 [==============================] - 115s 231us/step - loss: 0.4669 - accuracy: 0.7594\n",
            "Epoch 47/200\n",
            "500000/500000 [==============================] - 115s 231us/step - loss: 0.4669 - accuracy: 0.7594\n"
          ],
          "name": "stdout"
        },
        {
          "output_type": "execute_result",
          "data": {
            "text/plain": [
              "<keras.callbacks.callbacks.History at 0x7f73c0314588>"
            ]
          },
          "metadata": {
            "tags": []
          },
          "execution_count": 11
        }
      ]
    },
    {
      "cell_type": "code",
      "metadata": {
        "id": "l8uhrgxBuDti",
        "colab_type": "code",
        "outputId": "08c8fc53-b133-4d5b-ae66-46d2e1166c4a",
        "colab": {
          "base_uri": "https://localhost:8080/",
          "height": 51
        }
      },
      "source": [
        "model.evaluate(X_test,y_test)[1]"
      ],
      "execution_count": 12,
      "outputs": [
        {
          "output_type": "stream",
          "text": [
            "2000/2000 [==============================] - 0s 85us/step\n"
          ],
          "name": "stdout"
        },
        {
          "output_type": "execute_result",
          "data": {
            "text/plain": [
              "0.7605000138282776"
            ]
          },
          "metadata": {
            "tags": []
          },
          "execution_count": 12
        }
      ]
    },
    {
      "cell_type": "code",
      "metadata": {
        "id": "INAh6wiKuDtp",
        "colab_type": "code",
        "colab": {}
      },
      "source": [
        ""
      ],
      "execution_count": 0,
      "outputs": []
    }
  ]
}